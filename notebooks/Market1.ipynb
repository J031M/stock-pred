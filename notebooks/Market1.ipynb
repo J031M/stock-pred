{
 "cells": [
  {
   "cell_type": "code",
   "execution_count": 1,
   "id": "32e0df3a-b311-4056-8bca-bf36062e6a92",
   "metadata": {},
   "outputs": [
    {
     "name": "stderr",
     "output_type": "stream",
     "text": [
      "2023-02-11 21:28:51.360408: I tensorflow/core/platform/cpu_feature_guard.cc:193] This TensorFlow binary is optimized with oneAPI Deep Neural Network Library (oneDNN) to use the following CPU instructions in performance-critical operations:  AVX2 AVX512F AVX512_VNNI FMA\n",
      "To enable them in other operations, rebuild TensorFlow with the appropriate compiler flags.\n",
      "2023-02-11 21:28:51.587037: I tensorflow/core/util/port.cc:104] oneDNN custom operations are on. You may see slightly different numerical results due to floating-point round-off errors from different computation orders. To turn them off, set the environment variable `TF_ENABLE_ONEDNN_OPTS=0`.\n",
      "2023-02-11 21:28:51.595029: W tensorflow/compiler/xla/stream_executor/platform/default/dso_loader.cc:64] Could not load dynamic library 'libcudart.so.11.0'; dlerror: libcudart.so.11.0: cannot open shared object file: No such file or directory\n",
      "2023-02-11 21:28:51.595068: I tensorflow/compiler/xla/stream_executor/cuda/cudart_stub.cc:29] Ignore above cudart dlerror if you do not have a GPU set up on your machine.\n",
      "2023-02-11 21:28:52.834916: W tensorflow/compiler/xla/stream_executor/platform/default/dso_loader.cc:64] Could not load dynamic library 'libnvinfer.so.7'; dlerror: libnvinfer.so.7: cannot open shared object file: No such file or directory\n",
      "2023-02-11 21:28:52.835091: W tensorflow/compiler/xla/stream_executor/platform/default/dso_loader.cc:64] Could not load dynamic library 'libnvinfer_plugin.so.7'; dlerror: libnvinfer_plugin.so.7: cannot open shared object file: No such file or directory\n",
      "2023-02-11 21:28:52.835108: W tensorflow/compiler/tf2tensorrt/utils/py_utils.cc:38] TF-TRT Warning: Cannot dlopen some TensorRT libraries. If you would like to use Nvidia GPU with TensorRT, please make sure the missing libraries mentioned above are installed properly.\n"
     ]
    }
   ],
   "source": [
    "import pandas as pd\n",
    "import numpy as np\n",
    "import matplotlib.pyplot as plt\n",
    "import seaborn as sns\n",
    "\n",
    "from sklearn.model_selection import train_test_split\n",
    "from sklearn.preprocessing import MinMaxScaler\n",
    "from tensorflow.keras.models import Sequential\n",
    "from tensorflow.keras.layers import Dense, Dropout, LSTM\n",
    "from sklearn import metrics"
   ]
  },
  {
   "cell_type": "code",
   "execution_count": 2,
   "id": "7ffe9bc7-8754-40e8-a558-8c3011a6ead9",
   "metadata": {},
   "outputs": [],
   "source": [
    "df = pd.read_csv(\"./data/AMZN.csv\")"
   ]
  },
  {
   "cell_type": "code",
   "execution_count": 3,
   "id": "c06295f4-e305-4720-9abb-5e260c9f5246",
   "metadata": {},
   "outputs": [],
   "source": [
    "#2012-01-01 to 2016-11-07"
   ]
  },
  {
   "cell_type": "code",
   "execution_count": 4,
   "id": "d58d8c14-3321-45da-9c0d-6fb4e4af2b84",
   "metadata": {},
   "outputs": [],
   "source": [
    "scaler=MinMaxScaler(feature_range=(0,1))\n",
    "scaled_data=scaler.fit_transform(df['Close'].values.reshape(-1,1))"
   ]
  },
  {
   "cell_type": "code",
   "execution_count": 5,
   "id": "39ea49ed-9491-4612-a768-ba582bdfa62d",
   "metadata": {},
   "outputs": [],
   "source": [
    "prediction_days = 60\n",
    "\n",
    "X=[]\n",
    "y=[]"
   ]
  },
  {
   "cell_type": "code",
   "execution_count": 6,
   "id": "c131bd45-497c-4815-8477-792657939fcc",
   "metadata": {},
   "outputs": [],
   "source": [
    "for i in range(prediction_days, len(scaled_data)):\n",
    "    X.append(scaled_data[i-prediction_days:i, 0])\n",
    "    y.append(scaled_data[i, 0])"
   ]
  },
  {
   "cell_type": "code",
   "execution_count": 7,
   "id": "dd40be87-bdd5-4eb8-a38a-4e7757bc56a9",
   "metadata": {},
   "outputs": [],
   "source": [
    "X_train, X_test, y_train, y_test = train_test_split(X, y, test_size=0.3)"
   ]
  },
  {
   "cell_type": "code",
   "execution_count": 8,
   "id": "7f272e4a-53ab-4b20-841f-b0e324e8da99",
   "metadata": {},
   "outputs": [],
   "source": [
    "X_train, y_train = np.array(X_train), np.array(y_train)\n",
    "X_train = np.reshape(X_train, (X_train.shape[0], X_train.shape[1], 1))"
   ]
  },
  {
   "cell_type": "code",
   "execution_count": 9,
   "id": "b80ad5ff-774f-4d44-9818-98d370f525d6",
   "metadata": {},
   "outputs": [
    {
     "name": "stderr",
     "output_type": "stream",
     "text": [
      "2023-02-11 21:28:55.333832: W tensorflow/compiler/xla/stream_executor/platform/default/dso_loader.cc:64] Could not load dynamic library 'libcuda.so.1'; dlerror: libcuda.so.1: cannot open shared object file: No such file or directory\n",
      "2023-02-11 21:28:55.333872: W tensorflow/compiler/xla/stream_executor/cuda/cuda_driver.cc:265] failed call to cuInit: UNKNOWN ERROR (303)\n",
      "2023-02-11 21:28:55.333899: I tensorflow/compiler/xla/stream_executor/cuda/cuda_diagnostics.cc:156] kernel driver does not appear to be running on this host (HallowNest): /proc/driver/nvidia/version does not exist\n",
      "2023-02-11 21:28:55.334280: I tensorflow/core/platform/cpu_feature_guard.cc:193] This TensorFlow binary is optimized with oneAPI Deep Neural Network Library (oneDNN) to use the following CPU instructions in performance-critical operations:  AVX2 AVX512F AVX512_VNNI FMA\n",
      "To enable them in other operations, rebuild TensorFlow with the appropriate compiler flags.\n"
     ]
    }
   ],
   "source": [
    "model = Sequential()\n",
    "\n",
    "model.add(LSTM(units=50, return_sequences=True, input_shape=(X_train.shape[1], 1)))\n",
    "model.add(Dropout(0.2))\n",
    "model.add(LSTM(units=50, return_sequences=True))\n",
    "model.add(Dropout(0.2))\n",
    "model.add(LSTM(units=50))\n",
    "model.add(Dropout(0.2))\n",
    "model.add(Dense(units=1))"
   ]
  },
  {
   "cell_type": "code",
   "execution_count": 10,
   "id": "6711d2cf-89e2-4838-a5bd-a8b56cdc1bdb",
   "metadata": {},
   "outputs": [
    {
     "name": "stdout",
     "output_type": "stream",
     "text": [
      "Epoch 1/25\n",
      "140/140 [==============================] - 24s 103ms/step - loss: 0.0038\n",
      "Epoch 2/25\n",
      "140/140 [==============================] - 14s 103ms/step - loss: 0.0015\n",
      "Epoch 3/25\n",
      "140/140 [==============================] - 15s 104ms/step - loss: 0.0013\n",
      "Epoch 4/25\n",
      "140/140 [==============================] - 15s 104ms/step - loss: 0.0014\n",
      "Epoch 5/25\n",
      "140/140 [==============================] - 15s 104ms/step - loss: 0.0014\n",
      "Epoch 6/25\n",
      "140/140 [==============================] - 15s 104ms/step - loss: 9.8411e-04\n",
      "Epoch 7/25\n",
      "140/140 [==============================] - 15s 105ms/step - loss: 0.0012\n",
      "Epoch 8/25\n",
      "140/140 [==============================] - 15s 104ms/step - loss: 9.0322e-04\n",
      "Epoch 9/25\n",
      "140/140 [==============================] - 15s 104ms/step - loss: 8.8491e-04\n",
      "Epoch 10/25\n",
      "140/140 [==============================] - 15s 104ms/step - loss: 8.8561e-04\n",
      "Epoch 11/25\n",
      "140/140 [==============================] - 15s 104ms/step - loss: 8.1672e-04\n",
      "Epoch 12/25\n",
      "140/140 [==============================] - 15s 104ms/step - loss: 8.3897e-04\n",
      "Epoch 13/25\n",
      "140/140 [==============================] - 15s 107ms/step - loss: 9.2215e-04\n",
      "Epoch 14/25\n",
      "140/140 [==============================] - 15s 105ms/step - loss: 8.2161e-04\n",
      "Epoch 15/25\n",
      "140/140 [==============================] - 15s 105ms/step - loss: 7.5269e-04\n",
      "Epoch 16/25\n",
      "140/140 [==============================] - 15s 105ms/step - loss: 7.7998e-04\n",
      "Epoch 17/25\n",
      "140/140 [==============================] - 15s 107ms/step - loss: 8.6371e-04\n",
      "Epoch 18/25\n",
      "140/140 [==============================] - 15s 105ms/step - loss: 7.2714e-04\n",
      "Epoch 19/25\n",
      "140/140 [==============================] - 15s 107ms/step - loss: 8.0929e-04\n",
      "Epoch 20/25\n",
      "140/140 [==============================] - 15s 105ms/step - loss: 7.5401e-04\n",
      "Epoch 21/25\n",
      "140/140 [==============================] - 15s 106ms/step - loss: 6.7389e-04\n",
      "Epoch 22/25\n",
      "140/140 [==============================] - 15s 108ms/step - loss: 7.2539e-04\n",
      "Epoch 23/25\n",
      "140/140 [==============================] - 15s 110ms/step - loss: 8.0247e-04\n",
      "Epoch 24/25\n",
      "140/140 [==============================] - 15s 106ms/step - loss: 6.7971e-04\n",
      "Epoch 25/25\n",
      "140/140 [==============================] - 15s 107ms/step - loss: 8.0139e-04\n"
     ]
    },
    {
     "data": {
      "text/plain": [
       "<keras.callbacks.History at 0x7fb7c0254430>"
      ]
     },
     "execution_count": 10,
     "metadata": {},
     "output_type": "execute_result"
    }
   ],
   "source": [
    "model.compile(optimizer='adam', loss='mean_squared_error')\n",
    "model.fit(X_train, y_train, epochs=25, batch_size=32)"
   ]
  },
  {
   "cell_type": "code",
   "execution_count": 11,
   "id": "561991e2-6613-4211-806e-5fa7eb7aa5b5",
   "metadata": {},
   "outputs": [],
   "source": [
    "X_test, y_test= np.array(X_test), np.array(y_test)\n",
    "X_test = np.reshape(X_test, (X_test.shape[0], X_test.shape[1], 1))"
   ]
  },
  {
   "cell_type": "code",
   "execution_count": 12,
   "id": "3dd62458-20ce-4ce5-86b5-35ee93a2e77d",
   "metadata": {},
   "outputs": [
    {
     "name": "stdout",
     "output_type": "stream",
     "text": [
      "60/60 [==============================] - 4s 34ms/step\n"
     ]
    }
   ],
   "source": [
    "predicted_prices=model.predict(X_test)\n",
    "predicted_prices=scaler.inverse_transform(predicted_prices)"
   ]
  },
  {
   "cell_type": "code",
   "execution_count": 13,
   "id": "6479a4a2-fe39-4fbf-8aa9-6812977c8ab2",
   "metadata": {},
   "outputs": [],
   "source": [
    "y_test=scaler.inverse_transform(y_test.reshape(-1, 1))"
   ]
  },
  {
   "cell_type": "code",
   "execution_count": 14,
   "id": "8ebdff63-9552-44e3-bb3f-6a2e3c7d20e9",
   "metadata": {},
   "outputs": [
    {
     "data": {
      "text/plain": [
       "<matplotlib.collections.PathCollection at 0x7fb76fe921d0>"
      ]
     },
     "execution_count": 14,
     "metadata": {},
     "output_type": "execute_result"
    },
    {
     "data": {
      "image/png": "[encoded data removed]",
      "text/plain": [
       "<Figure size 640x480 with 1 Axes>"
      ]
     },
     "metadata": {},
     "output_type": "display_data"
    }
   ],
   "source": [
    "plt.scatter(predicted_prices,y_test)"
   ]
  },
  {
   "cell_type": "code",
   "execution_count": 15,
   "id": "a2c88456-f487-47a2-86ea-c47f0d709799",
   "metadata": {},
   "outputs": [
    {
     "name": "stdout",
     "output_type": "stream",
     "text": [
      "RMSE: 2.7730870159462375\n"
     ]
    }
   ],
   "source": [
    "print('RMSE:', np.sqrt(metrics.mean_squared_error(y_test, predicted_prices)))"
   ]
  },
  {
   "cell_type": "code",
   "execution_count": 25,
   "id": "3fe7654d-3f3a-45ef-b7ec-545af5be9b5f",
   "metadata": {},
   "outputs": [
    {
     "data": {
      "text/plain": [
       "6438"
      ]
     },
     "execution_count": 25,
     "metadata": {},
     "output_type": "execute_result"
    }
   ],
   "source": [
    "len(scaled_data)"
   ]
  },
  {
   "cell_type": "code",
   "execution_count": 79,
   "id": "797efa3c-86c9-4a46-8117-418dedadeb79",
   "metadata": {},
   "outputs": [
    {
     "name": "stdout",
     "output_type": "stream",
     "text": [
      "1/1 [==============================] - 0s 50ms/step\n",
      "7.652\n",
      "6.941\n",
      "[[0.90719247]]\n"
     ]
    }
   ],
   "source": [
    "import random\n",
    "n=random.randint(60,df.shape[0])\n",
    "\n",
    "demo=[]\n",
    "\n",
    "demo.append(scaled_data[n-prediction_days:n, 0])\n",
    "\n",
    "demo=np.array(demo)\n",
    "demo = np.reshape(demo, (demo.shape[0], demo.shape[1], 1))\n",
    "\n",
    "predicted_price=model.predict(demo)\n",
    "predicted_price=scaler.inverse_transform(predicted_price)\n",
    "\n",
    "print(\"%.3f\"%df.iloc[n]['Close'])\n",
    "print(\"%.3f\"%predicted_price)\n",
    "\n",
    "print(predicted_price/df.iloc[n]['Close'])"
   ]
  }
 ],
 "metadata": {
  "kernelspec": {
   "display_name": "ML",
   "language": "python",
   "name": "ml"
  },
  "language_info": {
   "codemirror_mode": {
    "name": "ipython",
    "version": 3
   },
   "file_extension": ".py",
   "mimetype": "text/x-python",
   "name": "python",
   "nbconvert_exporter": "python",
   "pygments_lexer": "ipython3",
   "version": "3.10.9"
  }
 },
 "nbformat": 4,
 "nbformat_minor": 5
}
